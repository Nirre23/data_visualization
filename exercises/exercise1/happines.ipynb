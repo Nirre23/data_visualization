{
 "cells": [
  {
   "cell_type": "code",
   "execution_count": 2,
   "id": "18c2d598",
   "metadata": {},
   "outputs": [],
   "source": [
    "import pandas as pd\n",
    "import matplotlib.pyplot as plt\n",
    "\n",
    "df = pd.read_excel(\"../data/happiness.xlsx\")"
   ]
  },
  {
   "cell_type": "code",
   "execution_count": 3,
   "id": "52a9dc98",
   "metadata": {},
   "outputs": [
    {
     "data": {
      "text/html": [
       "<div>\n",
       "<style scoped>\n",
       "    .dataframe tbody tr th:only-of-type {\n",
       "        vertical-align: middle;\n",
       "    }\n",
       "\n",
       "    .dataframe tbody tr th {\n",
       "        vertical-align: top;\n",
       "    }\n",
       "\n",
       "    .dataframe thead th {\n",
       "        text-align: right;\n",
       "    }\n",
       "</style>\n",
       "<table border=\"1\" class=\"dataframe\">\n",
       "  <thead>\n",
       "    <tr style=\"text-align: right;\">\n",
       "      <th></th>\n",
       "      <th>Country name</th>\n",
       "      <th>Ladder score</th>\n",
       "      <th>upperwhisker</th>\n",
       "      <th>lowerwhisker</th>\n",
       "      <th>Explained by: Log GDP per capita</th>\n",
       "      <th>Explained by: Social support</th>\n",
       "      <th>Explained by: Healthy life expectancy</th>\n",
       "      <th>Explained by: Freedom to make life choices</th>\n",
       "      <th>Explained by: Generosity</th>\n",
       "      <th>Explained by: Perceptions of corruption</th>\n",
       "      <th>Dystopia + residual</th>\n",
       "    </tr>\n",
       "  </thead>\n",
       "  <tbody>\n",
       "    <tr>\n",
       "      <th>138</th>\n",
       "      <td>Congo (Kinshasa)</td>\n",
       "      <td>3.2954</td>\n",
       "      <td>3.462328</td>\n",
       "      <td>3.128472</td>\n",
       "      <td>0.533670</td>\n",
       "      <td>0.664700</td>\n",
       "      <td>0.261508</td>\n",
       "      <td>0.472705</td>\n",
       "      <td>0.188676</td>\n",
       "      <td>0.072167</td>\n",
       "      <td>1.102014</td>\n",
       "    </tr>\n",
       "    <tr>\n",
       "      <th>139</th>\n",
       "      <td>Sierra Leone</td>\n",
       "      <td>3.2452</td>\n",
       "      <td>3.366252</td>\n",
       "      <td>3.124148</td>\n",
       "      <td>0.654278</td>\n",
       "      <td>0.565977</td>\n",
       "      <td>0.253321</td>\n",
       "      <td>0.469035</td>\n",
       "      <td>0.181365</td>\n",
       "      <td>0.053299</td>\n",
       "      <td>1.067906</td>\n",
       "    </tr>\n",
       "    <tr>\n",
       "      <th>140</th>\n",
       "      <td>Lesotho</td>\n",
       "      <td>3.1862</td>\n",
       "      <td>3.468785</td>\n",
       "      <td>2.903615</td>\n",
       "      <td>0.770807</td>\n",
       "      <td>0.850587</td>\n",
       "      <td>0.000000</td>\n",
       "      <td>0.523188</td>\n",
       "      <td>0.082087</td>\n",
       "      <td>0.084969</td>\n",
       "      <td>0.874525</td>\n",
       "    </tr>\n",
       "    <tr>\n",
       "      <th>141</th>\n",
       "      <td>Lebanon</td>\n",
       "      <td>2.7065</td>\n",
       "      <td>2.796744</td>\n",
       "      <td>2.616256</td>\n",
       "      <td>1.376726</td>\n",
       "      <td>0.576713</td>\n",
       "      <td>0.556247</td>\n",
       "      <td>0.173223</td>\n",
       "      <td>0.067641</td>\n",
       "      <td>0.028772</td>\n",
       "      <td>-0.072831</td>\n",
       "    </tr>\n",
       "    <tr>\n",
       "      <th>142</th>\n",
       "      <td>Afghanistan</td>\n",
       "      <td>1.7210</td>\n",
       "      <td>1.775271</td>\n",
       "      <td>1.666728</td>\n",
       "      <td>0.628138</td>\n",
       "      <td>0.000000</td>\n",
       "      <td>0.241763</td>\n",
       "      <td>0.000000</td>\n",
       "      <td>0.090736</td>\n",
       "      <td>0.088471</td>\n",
       "      <td>0.671903</td>\n",
       "    </tr>\n",
       "  </tbody>\n",
       "</table>\n",
       "</div>"
      ],
      "text/plain": [
       "         Country name  Ladder score  upperwhisker  lowerwhisker  \\\n",
       "138  Congo (Kinshasa)        3.2954      3.462328      3.128472   \n",
       "139      Sierra Leone        3.2452      3.366252      3.124148   \n",
       "140           Lesotho        3.1862      3.468785      2.903615   \n",
       "141           Lebanon        2.7065      2.796744      2.616256   \n",
       "142       Afghanistan        1.7210      1.775271      1.666728   \n",
       "\n",
       "     Explained by: Log GDP per capita  Explained by: Social support  \\\n",
       "138                          0.533670                      0.664700   \n",
       "139                          0.654278                      0.565977   \n",
       "140                          0.770807                      0.850587   \n",
       "141                          1.376726                      0.576713   \n",
       "142                          0.628138                      0.000000   \n",
       "\n",
       "     Explained by: Healthy life expectancy  \\\n",
       "138                               0.261508   \n",
       "139                               0.253321   \n",
       "140                               0.000000   \n",
       "141                               0.556247   \n",
       "142                               0.241763   \n",
       "\n",
       "     Explained by: Freedom to make life choices  Explained by: Generosity  \\\n",
       "138                                    0.472705                  0.188676   \n",
       "139                                    0.469035                  0.181365   \n",
       "140                                    0.523188                  0.082087   \n",
       "141                                    0.173223                  0.067641   \n",
       "142                                    0.000000                  0.090736   \n",
       "\n",
       "     Explained by: Perceptions of corruption  Dystopia + residual  \n",
       "138                                 0.072167             1.102014  \n",
       "139                                 0.053299             1.067906  \n",
       "140                                 0.084969             0.874525  \n",
       "141                                 0.028772            -0.072831  \n",
       "142                                 0.088471             0.671903  "
      ]
     },
     "execution_count": 3,
     "metadata": {},
     "output_type": "execute_result"
    }
   ],
   "source": [
    "df.tail()"
   ]
  },
  {
   "cell_type": "code",
   "execution_count": 4,
   "id": "fb9abf0e",
   "metadata": {},
   "outputs": [],
   "source": [
    "happiest = df.head(10)"
   ]
  },
  {
   "cell_type": "code",
   "execution_count": 5,
   "id": "203aaa35",
   "metadata": {},
   "outputs": [
    {
     "data": {
      "text/plain": [
       "Index(['Country name', 'Ladder score', 'upperwhisker', 'lowerwhisker',\n",
       "       'Explained by: Log GDP per capita', 'Explained by: Social support',\n",
       "       'Explained by: Healthy life expectancy',\n",
       "       'Explained by: Freedom to make life choices',\n",
       "       'Explained by: Generosity', 'Explained by: Perceptions of corruption',\n",
       "       'Dystopia + residual'],\n",
       "      dtype='object')"
      ]
     },
     "execution_count": 5,
     "metadata": {},
     "output_type": "execute_result"
    }
   ],
   "source": [
    "no_freedom = df.tail(10)\n",
    "no_freedom.columns"
   ]
  },
  {
   "cell_type": "code",
   "execution_count": 6,
   "id": "dff7a3c5",
   "metadata": {},
   "outputs": [],
   "source": [
    "import duckdb\n",
    "\n",
    "no_freedom = duckdb.query(\"\"\"\n",
    "             SELECT \"Country name\", \"Explained by: Freedom to make life choices\"\n",
    "             FROM no_freedom\n",
    "             WHERE \"Explained by: Freedom to make life choices\" IS NOT NULL\n",
    "             \"\"\").df()\n",
    "\n",
    "\n"
   ]
  },
  {
   "cell_type": "code",
   "execution_count": 7,
   "id": "fd1bba5f",
   "metadata": {},
   "outputs": [
    {
     "name": "stdout",
     "output_type": "stream",
     "text": [
      "0.0\n"
     ]
    }
   ],
   "source": [
    "value = no_freedom.loc[no_freedom[\"Country name\"] == \"Afghanistan\", \"Explained by: Freedom to make life choices\"].values[0]\n",
    "print(value)\n"
   ]
  },
  {
   "cell_type": "code",
   "execution_count": 9,
   "id": "9ea9b068",
   "metadata": {},
   "outputs": [
    {
     "name": "stderr",
     "output_type": "stream",
     "text": [
      "C:\\Users\\nirre\\AppData\\Local\\Temp\\ipykernel_13080\\461606062.py:50: UserWarning: FigureCanvasAgg is non-interactive, and thus cannot be shown\n",
      "  fig.show()\n"
     ]
    },
    {
     "data": {
      "image/png": "[encoded data removed]",
      "text/plain": [
       "<Figure size 1000x600 with 1 Axes>"
      ]
     },
     "metadata": {},
     "output_type": "display_data"
    }
   ],
   "source": [
    "import matplotlib.pyplot as plt\n",
    "\n",
    "fig , ax = plt.subplots(figsize = (10,6))\n",
    "ax.bar(no_freedom['Country name'],no_freedom[\"Explained by: Freedom to make life choices\"],\n",
    "       width= 0.5,)\n",
    "ax.set_title(\"Countries with the least freedom to make life choices\",loc = \"left\",pad = 20,\n",
    "             fontsize = 22,family = \"Calibri\")\n",
    "\n",
    "plt.xticks(rotation=45, ha=\"right\", fontsize=11,family = \"Calibri\",color = \"gray\")\n",
    "ax.set_xlabel(\"Countries\",fontsize = 20,loc = \"left\")\n",
    "ax.tick_params(axis='y',colors = 'gray')\n",
    "ax.set_ylabel(\"Freedom Score\",fontsize = 12,labelpad = 10,color = \"gray\")\n",
    "ax.tick_params(axis = 'x', length = 0 )\n",
    "ax.spines[[\"right\", \"top\"]].set_visible(False)\n",
    "ax.spines[['left','bottom']].set_color(\"gray\")\n",
    "# ax.set_xticks\n",
    "\n",
    "\n",
    "# Hämta alla x-labels\n",
    "xtick_labels = ax.get_xticklabels()\n",
    "\n",
    "# Ändra färg på t.ex. \"Afghanistan\"\n",
    "for label in xtick_labels:\n",
    "    if label.get_text() == \"Afghanistan\":\n",
    "        label.set_color(\"black\")  # valfri färg\n",
    "\n",
    "\n",
    "afghanistan_score = no_freedom.loc[\n",
    "    no_freedom[\"Country name\"] == \"Afghanistan\",\n",
    "    \"Explained by: Freedom to make life choices\"\n",
    "].values[0]\n",
    "\n",
    "ax.annotate(\n",
    "    text=\"Afghanistan has\\n0 freedom score\",\n",
    "    xy=(9.,afghanistan_score+ 0.02),  # vart pilen ska peka\n",
    "    xytext=(8.2,0.28), #vart texten ska ligga \n",
    "    textcoords=\"data\",\n",
    "    fontsize=13,\n",
    "    family=\"Calibri\",\n",
    "    arrowprops=dict(\n",
    "        arrowstyle = '->',\n",
    "                    color = \"black\",\n",
    "                    connectionstyle = \"arc3,rad= -0.2\"\n",
    "                    \n",
    "\n",
    "    )\n",
    ")\n",
    "\n",
    "plt.tight_layout()\n",
    "fig.show()\n",
    "plt.savefig(\"../plots/freedom.png\")\n"
   ]
  }
 ],
 "metadata": {
  "kernelspec": {
   "display_name": ".venv",
   "language": "python",
   "name": "python3"
  },
  "language_info": {
   "codemirror_mode": {
    "name": "ipython",
    "version": 3
   },
   "file_extension": ".py",
   "mimetype": "text/x-python",
   "name": "python",
   "nbconvert_exporter": "python",
   "pygments_lexer": "ipython3",
   "version": "3.12.5"
  }
 },
 "nbformat": 4,
 "nbformat_minor": 5
}
