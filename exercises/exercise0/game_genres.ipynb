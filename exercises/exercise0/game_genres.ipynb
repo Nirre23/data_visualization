{
 "cells": [
  {
   "cell_type": "code",
   "execution_count": 1,
   "id": "da9d824c",
   "metadata": {},
   "outputs": [],
   "source": [
    "import pandas as pd\n",
    "import matplotlib.pyplot as plt"
   ]
  },
  {
   "cell_type": "code",
   "execution_count": 4,
   "id": "58338ff9",
   "metadata": {},
   "outputs": [
    {
     "data": {
      "text/html": [
       "<div>\n",
       "<style scoped>\n",
       "    .dataframe tbody tr th:only-of-type {\n",
       "        vertical-align: middle;\n",
       "    }\n",
       "\n",
       "    .dataframe tbody tr th {\n",
       "        vertical-align: top;\n",
       "    }\n",
       "\n",
       "    .dataframe thead th {\n",
       "        text-align: right;\n",
       "    }\n",
       "</style>\n",
       "<table border=\"1\" class=\"dataframe\">\n",
       "  <thead>\n",
       "    <tr style=\"text-align: right;\">\n",
       "      <th></th>\n",
       "      <th>Rank</th>\n",
       "      <th>Name</th>\n",
       "      <th>Thumbnail URL</th>\n",
       "      <th>Store Link</th>\n",
       "      <th>Price</th>\n",
       "      <th>Current Players</th>\n",
       "      <th>Peak Today</th>\n",
       "      <th>Genre Tags</th>\n",
       "    </tr>\n",
       "  </thead>\n",
       "  <tbody>\n",
       "    <tr>\n",
       "      <th>0</th>\n",
       "      <td>1</td>\n",
       "      <td>Counter-Strike 2</td>\n",
       "      <td>https://shared.cloudflare.steamstatic.com//sto...</td>\n",
       "      <td>https://store.steampowered.com/app/730/Counter...</td>\n",
       "      <td>Free To Play</td>\n",
       "      <td>1,485,535</td>\n",
       "      <td>1,489,929</td>\n",
       "      <td>FPS, Shooter, Multiplayer, Competitive, Action...</td>\n",
       "    </tr>\n",
       "    <tr>\n",
       "      <th>1</th>\n",
       "      <td>2</td>\n",
       "      <td>PUBG: BATTLEGROUNDS</td>\n",
       "      <td>https://shared.cloudflare.steamstatic.com//sto...</td>\n",
       "      <td>https://store.steampowered.com/app/578080/PUBG...</td>\n",
       "      <td>Free To Play</td>\n",
       "      <td>765,150</td>\n",
       "      <td>765,150</td>\n",
       "      <td>Survival, Shooter, Battle Royale, Multiplayer,...</td>\n",
       "    </tr>\n",
       "    <tr>\n",
       "      <th>2</th>\n",
       "      <td>3</td>\n",
       "      <td>Dota 2</td>\n",
       "      <td>https://shared.cloudflare.steamstatic.com//sto...</td>\n",
       "      <td>https://store.steampowered.com/app/570/Dota_2?...</td>\n",
       "      <td>Free To Play</td>\n",
       "      <td>698,757</td>\n",
       "      <td>715,295</td>\n",
       "      <td>Free to Play, MOBA, Multiplayer, Strategy, eSp...</td>\n",
       "    </tr>\n",
       "    <tr>\n",
       "      <th>3</th>\n",
       "      <td>4</td>\n",
       "      <td>Marvel Rivals</td>\n",
       "      <td>https://shared.cloudflare.steamstatic.com//sto...</td>\n",
       "      <td>https://store.steampowered.com/app/2767030/Mar...</td>\n",
       "      <td>Free To Play</td>\n",
       "      <td>312,427</td>\n",
       "      <td>565,653</td>\n",
       "      <td>Free to Play, Multiplayer, Hero Shooter, Third...</td>\n",
       "    </tr>\n",
       "    <tr>\n",
       "      <th>4</th>\n",
       "      <td>5</td>\n",
       "      <td>Path of Exile 2</td>\n",
       "      <td>https://shared.cloudflare.steamstatic.com//sto...</td>\n",
       "      <td>https://store.steampowered.com/app/2694490/Pat...</td>\n",
       "      <td>£23.93</td>\n",
       "      <td>258,475</td>\n",
       "      <td>288,757</td>\n",
       "      <td>Action RPG, Hack and Slash, RPG, Action, Souls...</td>\n",
       "    </tr>\n",
       "    <tr>\n",
       "      <th>5</th>\n",
       "      <td>6</td>\n",
       "      <td>Grand Theft Auto V</td>\n",
       "      <td>https://shared.cloudflare.steamstatic.com//sto...</td>\n",
       "      <td>https://store.steampowered.com/app/271590/Gran...</td>\n",
       "      <td>£14.80</td>\n",
       "      <td>207,117</td>\n",
       "      <td>207,117</td>\n",
       "      <td>Open World, Action, Multiplayer, Crime, Mature</td>\n",
       "    </tr>\n",
       "    <tr>\n",
       "      <th>6</th>\n",
       "      <td>7</td>\n",
       "      <td>NARAKA: BLADEPOINT</td>\n",
       "      <td>https://shared.cloudflare.steamstatic.com//sto...</td>\n",
       "      <td>https://store.steampowered.com/app/1203220/NAR...</td>\n",
       "      <td>Free To Play</td>\n",
       "      <td>201,876</td>\n",
       "      <td>208,643</td>\n",
       "      <td>Battle Royale, Multiplayer, Martial Arts, PvP,...</td>\n",
       "    </tr>\n",
       "    <tr>\n",
       "      <th>7</th>\n",
       "      <td>8</td>\n",
       "      <td>Rust</td>\n",
       "      <td>https://shared.cloudflare.steamstatic.com//sto...</td>\n",
       "      <td>https://store.steampowered.com/app/252490/Rust...</td>\n",
       "      <td>£34.99</td>\n",
       "      <td>168,002</td>\n",
       "      <td>205,358</td>\n",
       "      <td>Survival, Crafting, Multiplayer, Open World, O...</td>\n",
       "    </tr>\n",
       "    <tr>\n",
       "      <th>8</th>\n",
       "      <td>9</td>\n",
       "      <td>Palworld</td>\n",
       "      <td>https://shared.cloudflare.steamstatic.com//sto...</td>\n",
       "      <td>https://store.steampowered.com/app/1623730/Pal...</td>\n",
       "      <td>£24.99</td>\n",
       "      <td>165,613</td>\n",
       "      <td>165,613</td>\n",
       "      <td>Open World, Survival, Creature Collector, Mult...</td>\n",
       "    </tr>\n",
       "    <tr>\n",
       "      <th>9</th>\n",
       "      <td>10</td>\n",
       "      <td>Apex Legends™</td>\n",
       "      <td>https://shared.cloudflare.steamstatic.com//sto...</td>\n",
       "      <td>https://store.steampowered.com/app/1172470/Ape...</td>\n",
       "      <td>Free To Play</td>\n",
       "      <td>150,754</td>\n",
       "      <td>151,447</td>\n",
       "      <td>Free to Play, Battle Royale, Multiplayer, FPS,...</td>\n",
       "    </tr>\n",
       "  </tbody>\n",
       "</table>\n",
       "</div>"
      ],
      "text/plain": [
       "   Rank                 Name  \\\n",
       "0     1     Counter-Strike 2   \n",
       "1     2  PUBG: BATTLEGROUNDS   \n",
       "2     3               Dota 2   \n",
       "3     4        Marvel Rivals   \n",
       "4     5      Path of Exile 2   \n",
       "5     6   Grand Theft Auto V   \n",
       "6     7   NARAKA: BLADEPOINT   \n",
       "7     8                 Rust   \n",
       "8     9             Palworld   \n",
       "9    10        Apex Legends™   \n",
       "\n",
       "                                       Thumbnail URL  \\\n",
       "0  https://shared.cloudflare.steamstatic.com//sto...   \n",
       "1  https://shared.cloudflare.steamstatic.com//sto...   \n",
       "2  https://shared.cloudflare.steamstatic.com//sto...   \n",
       "3  https://shared.cloudflare.steamstatic.com//sto...   \n",
       "4  https://shared.cloudflare.steamstatic.com//sto...   \n",
       "5  https://shared.cloudflare.steamstatic.com//sto...   \n",
       "6  https://shared.cloudflare.steamstatic.com//sto...   \n",
       "7  https://shared.cloudflare.steamstatic.com//sto...   \n",
       "8  https://shared.cloudflare.steamstatic.com//sto...   \n",
       "9  https://shared.cloudflare.steamstatic.com//sto...   \n",
       "\n",
       "                                          Store Link         Price  \\\n",
       "0  https://store.steampowered.com/app/730/Counter...  Free To Play   \n",
       "1  https://store.steampowered.com/app/578080/PUBG...  Free To Play   \n",
       "2  https://store.steampowered.com/app/570/Dota_2?...  Free To Play   \n",
       "3  https://store.steampowered.com/app/2767030/Mar...  Free To Play   \n",
       "4  https://store.steampowered.com/app/2694490/Pat...        £23.93   \n",
       "5  https://store.steampowered.com/app/271590/Gran...        £14.80   \n",
       "6  https://store.steampowered.com/app/1203220/NAR...  Free To Play   \n",
       "7  https://store.steampowered.com/app/252490/Rust...        £34.99   \n",
       "8  https://store.steampowered.com/app/1623730/Pal...        £24.99   \n",
       "9  https://store.steampowered.com/app/1172470/Ape...  Free To Play   \n",
       "\n",
       "  Current Players Peak Today  \\\n",
       "0       1,485,535  1,489,929   \n",
       "1         765,150    765,150   \n",
       "2         698,757    715,295   \n",
       "3         312,427    565,653   \n",
       "4         258,475    288,757   \n",
       "5         207,117    207,117   \n",
       "6         201,876    208,643   \n",
       "7         168,002    205,358   \n",
       "8         165,613    165,613   \n",
       "9         150,754    151,447   \n",
       "\n",
       "                                          Genre Tags  \n",
       "0  FPS, Shooter, Multiplayer, Competitive, Action...  \n",
       "1  Survival, Shooter, Battle Royale, Multiplayer,...  \n",
       "2  Free to Play, MOBA, Multiplayer, Strategy, eSp...  \n",
       "3  Free to Play, Multiplayer, Hero Shooter, Third...  \n",
       "4  Action RPG, Hack and Slash, RPG, Action, Souls...  \n",
       "5     Open World, Action, Multiplayer, Crime, Mature  \n",
       "6  Battle Royale, Multiplayer, Martial Arts, PvP,...  \n",
       "7  Survival, Crafting, Multiplayer, Open World, O...  \n",
       "8  Open World, Survival, Creature Collector, Mult...  \n",
       "9  Free to Play, Battle Royale, Multiplayer, FPS,...  "
      ]
     },
     "execution_count": 4,
     "metadata": {},
     "output_type": "execute_result"
    }
   ],
   "source": [
    "df = pd.read_csv('../data/steam_games.csv')\n",
    "df.head(10)"
   ]
  },
  {
   "cell_type": "code",
   "execution_count": 40,
   "id": "2923fc20",
   "metadata": {},
   "outputs": [],
   "source": [
    "df_genres = df.copy()"
   ]
  },
  {
   "cell_type": "code",
   "execution_count": 41,
   "id": "24e89cc0",
   "metadata": {},
   "outputs": [],
   "source": [
    "df_genres['Genre Tags'] = df_genres['Genre Tags'].str.split(', ')\n"
   ]
  },
  {
   "cell_type": "code",
   "execution_count": 42,
   "id": "f6ed7803",
   "metadata": {},
   "outputs": [],
   "source": [
    "df_exploded = df_genres.explode('Genre Tags')"
   ]
  },
  {
   "cell_type": "code",
   "execution_count": 46,
   "id": "cfe7f936",
   "metadata": {},
   "outputs": [],
   "source": [
    "df_exploded['Genre Tags'] = df_exploded['Genre Tags'].str.strip()\n",
    "# Ta bort \"+\"-tecknet från listan\n",
    "df_exploded = df_exploded[df_exploded['Genre Tags'] != '+']\n"
   ]
  },
  {
   "cell_type": "code",
   "execution_count": 47,
   "id": "3c3f3af6",
   "metadata": {},
   "outputs": [],
   "source": [
    "genre_counts = df_exploded['Genre Tags'].value_counts().nlargest(5)"
   ]
  },
  {
   "cell_type": "code",
   "execution_count": 48,
   "id": "2da67ee5",
   "metadata": {},
   "outputs": [
    {
     "data": {
      "text/plain": [
       "<BarContainer object of 5 artists>"
      ]
     },
     "execution_count": 48,
     "metadata": {},
     "output_type": "execute_result"
    },
    {
     "data": {
      "image/png": "[encoded data removed]",
      "text/plain": [
       "<Figure size 1000x600 with 1 Axes>"
      ]
     },
     "metadata": {},
     "output_type": "display_data"
    }
   ],
   "source": [
    "\n",
    "\n",
    "fig, ax = plt.subplots(figsize=(10, 6))\n",
    "ax.set_title(\" Top 5 genres in the top 100 games on steam\")\n",
    "ax.set_xlabel(\"Genre Tags\")\n",
    "ax.set_ylabel(\"Number of Games\")\n",
    "ax.bar (genre_counts.index,genre_counts.values, color='steelblue',width=0.5)"
   ]
  }
 ],
 "metadata": {
  "kernelspec": {
   "display_name": ".venv",
   "language": "python",
   "name": "python3"
  },
  "language_info": {
   "codemirror_mode": {
    "name": "ipython",
    "version": 3
   },
   "file_extension": ".py",
   "mimetype": "text/x-python",
   "name": "python",
   "nbconvert_exporter": "python",
   "pygments_lexer": "ipython3",
   "version": "3.12.5"
  }
 },
 "nbformat": 4,
 "nbformat_minor": 5
}
