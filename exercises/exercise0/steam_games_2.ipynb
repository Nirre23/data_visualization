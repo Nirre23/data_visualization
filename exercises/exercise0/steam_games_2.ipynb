{
 "cells": [
  {
   "cell_type": "code",
   "execution_count": 1,
   "id": "691160e3",
   "metadata": {},
   "outputs": [],
   "source": [
    "import pandas as pd\n",
    "\n",
    "df = pd.read_csv('../data/steam_games.csv')"
   ]
  },
  {
   "cell_type": "code",
   "execution_count": 2,
   "id": "1f5a5f1b",
   "metadata": {},
   "outputs": [
    {
     "data": {
      "text/html": [
       "<div>\n",
       "<style scoped>\n",
       "    .dataframe tbody tr th:only-of-type {\n",
       "        vertical-align: middle;\n",
       "    }\n",
       "\n",
       "    .dataframe tbody tr th {\n",
       "        vertical-align: top;\n",
       "    }\n",
       "\n",
       "    .dataframe thead th {\n",
       "        text-align: right;\n",
       "    }\n",
       "</style>\n",
       "<table border=\"1\" class=\"dataframe\">\n",
       "  <thead>\n",
       "    <tr style=\"text-align: right;\">\n",
       "      <th></th>\n",
       "      <th>Rank</th>\n",
       "      <th>Name</th>\n",
       "      <th>Thumbnail URL</th>\n",
       "      <th>Store Link</th>\n",
       "      <th>Price</th>\n",
       "      <th>Current Players</th>\n",
       "      <th>Peak Today</th>\n",
       "      <th>Genre Tags</th>\n",
       "    </tr>\n",
       "  </thead>\n",
       "  <tbody>\n",
       "    <tr>\n",
       "      <th>0</th>\n",
       "      <td>1</td>\n",
       "      <td>Counter-Strike 2</td>\n",
       "      <td>https://shared.cloudflare.steamstatic.com//sto...</td>\n",
       "      <td>https://store.steampowered.com/app/730/Counter...</td>\n",
       "      <td>Free To Play</td>\n",
       "      <td>1,485,535</td>\n",
       "      <td>1,489,929</td>\n",
       "      <td>FPS, Shooter, Multiplayer, Competitive, Action...</td>\n",
       "    </tr>\n",
       "    <tr>\n",
       "      <th>1</th>\n",
       "      <td>2</td>\n",
       "      <td>PUBG: BATTLEGROUNDS</td>\n",
       "      <td>https://shared.cloudflare.steamstatic.com//sto...</td>\n",
       "      <td>https://store.steampowered.com/app/578080/PUBG...</td>\n",
       "      <td>Free To Play</td>\n",
       "      <td>765,150</td>\n",
       "      <td>765,150</td>\n",
       "      <td>Survival, Shooter, Battle Royale, Multiplayer,...</td>\n",
       "    </tr>\n",
       "    <tr>\n",
       "      <th>2</th>\n",
       "      <td>3</td>\n",
       "      <td>Dota 2</td>\n",
       "      <td>https://shared.cloudflare.steamstatic.com//sto...</td>\n",
       "      <td>https://store.steampowered.com/app/570/Dota_2?...</td>\n",
       "      <td>Free To Play</td>\n",
       "      <td>698,757</td>\n",
       "      <td>715,295</td>\n",
       "      <td>Free to Play, MOBA, Multiplayer, Strategy, eSp...</td>\n",
       "    </tr>\n",
       "    <tr>\n",
       "      <th>3</th>\n",
       "      <td>4</td>\n",
       "      <td>Marvel Rivals</td>\n",
       "      <td>https://shared.cloudflare.steamstatic.com//sto...</td>\n",
       "      <td>https://store.steampowered.com/app/2767030/Mar...</td>\n",
       "      <td>Free To Play</td>\n",
       "      <td>312,427</td>\n",
       "      <td>565,653</td>\n",
       "      <td>Free to Play, Multiplayer, Hero Shooter, Third...</td>\n",
       "    </tr>\n",
       "    <tr>\n",
       "      <th>4</th>\n",
       "      <td>5</td>\n",
       "      <td>Path of Exile 2</td>\n",
       "      <td>https://shared.cloudflare.steamstatic.com//sto...</td>\n",
       "      <td>https://store.steampowered.com/app/2694490/Pat...</td>\n",
       "      <td>£23.93</td>\n",
       "      <td>258,475</td>\n",
       "      <td>288,757</td>\n",
       "      <td>Action RPG, Hack and Slash, RPG, Action, Souls...</td>\n",
       "    </tr>\n",
       "  </tbody>\n",
       "</table>\n",
       "</div>"
      ],
      "text/plain": [
       "   Rank                 Name  \\\n",
       "0     1     Counter-Strike 2   \n",
       "1     2  PUBG: BATTLEGROUNDS   \n",
       "2     3               Dota 2   \n",
       "3     4        Marvel Rivals   \n",
       "4     5      Path of Exile 2   \n",
       "\n",
       "                                       Thumbnail URL  \\\n",
       "0  https://shared.cloudflare.steamstatic.com//sto...   \n",
       "1  https://shared.cloudflare.steamstatic.com//sto...   \n",
       "2  https://shared.cloudflare.steamstatic.com//sto...   \n",
       "3  https://shared.cloudflare.steamstatic.com//sto...   \n",
       "4  https://shared.cloudflare.steamstatic.com//sto...   \n",
       "\n",
       "                                          Store Link         Price  \\\n",
       "0  https://store.steampowered.com/app/730/Counter...  Free To Play   \n",
       "1  https://store.steampowered.com/app/578080/PUBG...  Free To Play   \n",
       "2  https://store.steampowered.com/app/570/Dota_2?...  Free To Play   \n",
       "3  https://store.steampowered.com/app/2767030/Mar...  Free To Play   \n",
       "4  https://store.steampowered.com/app/2694490/Pat...        £23.93   \n",
       "\n",
       "  Current Players Peak Today  \\\n",
       "0       1,485,535  1,489,929   \n",
       "1         765,150    765,150   \n",
       "2         698,757    715,295   \n",
       "3         312,427    565,653   \n",
       "4         258,475    288,757   \n",
       "\n",
       "                                          Genre Tags  \n",
       "0  FPS, Shooter, Multiplayer, Competitive, Action...  \n",
       "1  Survival, Shooter, Battle Royale, Multiplayer,...  \n",
       "2  Free to Play, MOBA, Multiplayer, Strategy, eSp...  \n",
       "3  Free to Play, Multiplayer, Hero Shooter, Third...  \n",
       "4  Action RPG, Hack and Slash, RPG, Action, Souls...  "
      ]
     },
     "execution_count": 2,
     "metadata": {},
     "output_type": "execute_result"
    }
   ],
   "source": [
    "df.head()"
   ]
  },
  {
   "cell_type": "code",
   "execution_count": 3,
   "id": "0bd2f44d",
   "metadata": {},
   "outputs": [
    {
     "data": {
      "text/plain": [
       "Rank                int64\n",
       "Name               object\n",
       "Thumbnail URL      object\n",
       "Store Link         object\n",
       "Price              object\n",
       "Current Players    object\n",
       "Peak Today         object\n",
       "Genre Tags         object\n",
       "dtype: object"
      ]
     },
     "execution_count": 3,
     "metadata": {},
     "output_type": "execute_result"
    }
   ],
   "source": [
    "df.dtypes"
   ]
  },
  {
   "cell_type": "code",
   "execution_count": 4,
   "id": "62b251cd",
   "metadata": {},
   "outputs": [],
   "source": [
    "current_players = df['Current Players'] = pd.to_numeric(df['Current Players'].str.replace(',', ''), errors='coerce')\n",
    "\n"
   ]
  },
  {
   "cell_type": "code",
   "execution_count": null,
   "id": "fbfe7f2c",
   "metadata": {},
   "outputs": [],
   "source": []
  },
  {
   "cell_type": "code",
   "execution_count": 5,
   "id": "5d3e31f6",
   "metadata": {},
   "outputs": [],
   "source": [
    "current_players = (df['Current Players'],df['Name'])\n"
   ]
  },
  {
   "cell_type": "code",
   "execution_count": 6,
   "id": "dea35e14",
   "metadata": {},
   "outputs": [],
   "source": [
    "top10 = df[['Name', 'Current Players']].sort_values(by='Current Players', ascending=False).head(10).reset_index(drop=True)\n"
   ]
  },
  {
   "cell_type": "code",
   "execution_count": 7,
   "id": "c7c0b1b7",
   "metadata": {},
   "outputs": [
    {
     "data": {
      "text/html": [
       "<div>\n",
       "<style scoped>\n",
       "    .dataframe tbody tr th:only-of-type {\n",
       "        vertical-align: middle;\n",
       "    }\n",
       "\n",
       "    .dataframe tbody tr th {\n",
       "        vertical-align: top;\n",
       "    }\n",
       "\n",
       "    .dataframe thead th {\n",
       "        text-align: right;\n",
       "    }\n",
       "</style>\n",
       "<table border=\"1\" class=\"dataframe\">\n",
       "  <thead>\n",
       "    <tr style=\"text-align: right;\">\n",
       "      <th></th>\n",
       "      <th>Name</th>\n",
       "      <th>Current Players</th>\n",
       "    </tr>\n",
       "  </thead>\n",
       "  <tbody>\n",
       "    <tr>\n",
       "      <th>0</th>\n",
       "      <td>Counter-Strike 2</td>\n",
       "      <td>1485535</td>\n",
       "    </tr>\n",
       "    <tr>\n",
       "      <th>1</th>\n",
       "      <td>PUBG: BATTLEGROUNDS</td>\n",
       "      <td>765150</td>\n",
       "    </tr>\n",
       "    <tr>\n",
       "      <th>2</th>\n",
       "      <td>Dota 2</td>\n",
       "      <td>698757</td>\n",
       "    </tr>\n",
       "    <tr>\n",
       "      <th>3</th>\n",
       "      <td>Marvel Rivals</td>\n",
       "      <td>312427</td>\n",
       "    </tr>\n",
       "    <tr>\n",
       "      <th>4</th>\n",
       "      <td>Path of Exile 2</td>\n",
       "      <td>258475</td>\n",
       "    </tr>\n",
       "    <tr>\n",
       "      <th>5</th>\n",
       "      <td>Grand Theft Auto V</td>\n",
       "      <td>207117</td>\n",
       "    </tr>\n",
       "    <tr>\n",
       "      <th>6</th>\n",
       "      <td>NARAKA: BLADEPOINT</td>\n",
       "      <td>201876</td>\n",
       "    </tr>\n",
       "    <tr>\n",
       "      <th>7</th>\n",
       "      <td>Rust</td>\n",
       "      <td>168002</td>\n",
       "    </tr>\n",
       "    <tr>\n",
       "      <th>8</th>\n",
       "      <td>Palworld</td>\n",
       "      <td>165613</td>\n",
       "    </tr>\n",
       "    <tr>\n",
       "      <th>9</th>\n",
       "      <td>Apex Legends™</td>\n",
       "      <td>150754</td>\n",
       "    </tr>\n",
       "  </tbody>\n",
       "</table>\n",
       "</div>"
      ],
      "text/plain": [
       "                  Name  Current Players\n",
       "0     Counter-Strike 2          1485535\n",
       "1  PUBG: BATTLEGROUNDS           765150\n",
       "2               Dota 2           698757\n",
       "3        Marvel Rivals           312427\n",
       "4      Path of Exile 2           258475\n",
       "5   Grand Theft Auto V           207117\n",
       "6   NARAKA: BLADEPOINT           201876\n",
       "7                 Rust           168002\n",
       "8             Palworld           165613\n",
       "9        Apex Legends™           150754"
      ]
     },
     "execution_count": 7,
     "metadata": {},
     "output_type": "execute_result"
    }
   ],
   "source": [
    "top10"
   ]
  },
  {
   "cell_type": "code",
   "execution_count": 8,
   "id": "df5d4d20",
   "metadata": {},
   "outputs": [
    {
     "name": "stdout",
     "output_type": "stream",
     "text": [
      "31\n"
     ]
    }
   ],
   "source": [
    "# Ta bort £-symbolen och eventuella bokstäver, samt trimma whitespace\n",
    "df['Price'] = df['Price'].str.replace('£', '', regex=False).str.replace('[a-zA-Z]', '', regex=True).str.strip()\n",
    "\n",
    "# Konvertera till numerisk typ\n",
    "df['Price'] = pd.to_numeric(df['Price'], errors='coerce')\n",
    "\n",
    "# Kontrollera om det finns några NaN-värden efter konverteringen\n",
    "print(df['Price'].isna().sum())"
   ]
  },
  {
   "cell_type": "code",
   "execution_count": 9,
   "id": "829f2e46",
   "metadata": {},
   "outputs": [
    {
     "data": {
      "text/plain": [
       "0       NaN\n",
       "1       NaN\n",
       "2       NaN\n",
       "3       NaN\n",
       "4     23.93\n",
       "      ...  \n",
       "95    19.99\n",
       "96     7.19\n",
       "97    24.99\n",
       "98    15.99\n",
       "99      NaN\n",
       "Name: Price, Length: 100, dtype: float64"
      ]
     },
     "execution_count": 9,
     "metadata": {},
     "output_type": "execute_result"
    }
   ],
   "source": [
    "df['Price']"
   ]
  },
  {
   "cell_type": "code",
   "execution_count": 10,
   "id": "11f0c37a",
   "metadata": {},
   "outputs": [],
   "source": [
    "df['Price'] = df['Price'].fillna('Free To Play')"
   ]
  },
  {
   "cell_type": "code",
   "execution_count": 11,
   "id": "b0477b3f",
   "metadata": {},
   "outputs": [
    {
     "data": {
      "text/plain": [
       "0     Free To Play\n",
       "1     Free To Play\n",
       "2     Free To Play\n",
       "3     Free To Play\n",
       "4            23.93\n",
       "          ...     \n",
       "95           19.99\n",
       "96            7.19\n",
       "97           24.99\n",
       "98           15.99\n",
       "99    Free To Play\n",
       "Name: Price, Length: 100, dtype: object"
      ]
     },
     "execution_count": 11,
     "metadata": {},
     "output_type": "execute_result"
    }
   ],
   "source": [
    "df['Price']"
   ]
  },
  {
   "cell_type": "code",
   "execution_count": 12,
   "id": "29b521a6",
   "metadata": {},
   "outputs": [
    {
     "data": {
      "text/plain": [
       "0       Counter-Strike 2\n",
       "1    PUBG: BATTLEGROUNDS\n",
       "2                 Dota 2\n",
       "3          Marvel Rivals\n",
       "4        Path of Exile 2\n",
       "5     Grand Theft Auto V\n",
       "6     NARAKA: BLADEPOINT\n",
       "7                   Rust\n",
       "8               Palworld\n",
       "9          Apex Legends™\n",
       "Name: Name, dtype: object"
      ]
     },
     "execution_count": 12,
     "metadata": {},
     "output_type": "execute_result"
    }
   ],
   "source": [
    "name = df['Name']\n",
    "name = top10['Name']\n",
    "name"
   ]
  },
  {
   "cell_type": "code",
   "execution_count": 13,
   "id": "a340c43b",
   "metadata": {},
   "outputs": [
    {
     "data": {
      "text/plain": [
       "0     Free To Play\n",
       "1     Free To Play\n",
       "2     Free To Play\n",
       "3     Free To Play\n",
       "4            23.93\n",
       "          ...     \n",
       "95           19.99\n",
       "96            7.19\n",
       "97           24.99\n",
       "98           15.99\n",
       "99    Free To Play\n",
       "Name: Price, Length: 100, dtype: object"
      ]
     },
     "execution_count": 13,
     "metadata": {},
     "output_type": "execute_result"
    }
   ],
   "source": [
    "df['Price']"
   ]
  },
  {
   "cell_type": "code",
   "execution_count": 14,
   "id": "dbc18201",
   "metadata": {},
   "outputs": [
    {
     "name": "stdout",
     "output_type": "stream",
     "text": [
      "                  Name         Price\n",
      "0     Counter-Strike 2  Free To Play\n",
      "1  PUBG: BATTLEGROUNDS  Free To Play\n",
      "2               Dota 2  Free To Play\n",
      "3        Marvel Rivals  Free To Play\n",
      "4      Path of Exile 2         23.93\n",
      "5   Grand Theft Auto V          14.8\n",
      "6   NARAKA: BLADEPOINT  Free To Play\n",
      "7                 Rust         34.99\n",
      "8             Palworld         24.99\n",
      "9        Apex Legends™  Free To Play\n"
     ]
    }
   ],
   "source": [
    "# Sortera DataFrame på 'Current Players' i fallande ordning\n",
    "top10 = df.sort_values(by='Current Players', ascending=False).head(10)\n",
    "\n",
    "# Visa topp 10 med namn och pris\n",
    "print(top10[['Name', 'Price']])\n"
   ]
  },
  {
   "cell_type": "code",
   "execution_count": 15,
   "id": "18ced8f7",
   "metadata": {},
   "outputs": [],
   "source": [
    "# Konvertera namn till strängar (ifall något inte är det)\n",
    "top10['Name'] = top10['Name'].astype(str)\n",
    "\n",
    "# Fyll ut saknade priser med 0, om det finns några NaN\n",
    "top10['Price'] = pd.to_numeric(top10['Price'], errors='coerce')  # Säkerställ att det är siffror\n",
    "top10['Price'] = top10['Price'].fillna(0)\n"
   ]
  },
  {
   "cell_type": "code",
   "execution_count": 16,
   "id": "3e6706be",
   "metadata": {},
   "outputs": [
    {
     "data": {
      "image/png": "[encoded data removed]",
      "text/plain": [
       "<Figure size 1500x700 with 2 Axes>"
      ]
     },
     "metadata": {},
     "output_type": "display_data"
    }
   ],
   "source": [
    "import matplotlib.pyplot as plt\n",
    "\n",
    "# Skapa figur och ax\n",
    "fig , (ax,ax2) = plt.subplots(1,2, figsize=(15, 7))\n",
    "\n",
    "# Bar chart\n",
    "ax.bar(top10['Name'], top10['Current Players'], width=0.5, color='steelblue',label = 'Players')\n",
    "ax.tick_params(axis='x', rotation=90, labelsize=10)\n",
    "\n",
    "ax.legend(loc = 'upper right')\n",
    "\n",
    "# Titlar och etiketter\n",
    "ax.set_title('Number of players for most popular games on Steam')\n",
    "ax.set_xlabel('Game')\n",
    "ax.set_ylabel('Number of players',loc ='center')\n",
    "\n",
    "# Textposition\n",
    "text_pos = (2.6, 1000000)\n",
    "ax.text(*text_pos, \"Most popular games are free\", ha='center', fontsize=10)\n",
    "\n",
    "# Målpunkt för pilar\n",
    "targets = [(0.19, 1110000), (0.9, 760000), (2, 720000), (3, 325000)]\n",
    "\n",
    "# Startpositioner för pilar\n",
    "start_positions = [(1, 1020000), (1.8, 960000), (2.15, 980000), (3, 990000)]  # olika startpositioner för pilarna\n",
    "\n",
    "# Kurvaturvärden för varje pil\n",
    "curvature_values = [0.3, 0.3, 0.15, -0.1]\n",
    "\n",
    "# Rita pilarna med olika böjar och startpunkter\n",
    "for i, target in enumerate(targets):\n",
    "    # Använd böjvärdena från `curvature_values` för varje pil\n",
    "    rad_value = curvature_values[i]  # Här kan du justera värdet för varje pil individuellt\n",
    "    \n",
    "    # Ange startposition från listan `start_positions`\n",
    "    start_pos = start_positions[i]\n",
    "\n",
    "    # Rita pilen med annotera\n",
    "    ax.annotate(\n",
    "        text='',                # Ingen text i annoteringen\n",
    "        xy=target,             # Målpunkt (dit pilen pekar)\n",
    "        xytext=start_pos,      # Textens startpunkt (från vilken pilen börjar)\n",
    "        arrowprops=dict(\n",
    "            arrowstyle='->',\n",
    "            color='black',\n",
    "            connectionstyle=f\"arc3,rad={rad_value}\"  # Använd olika böjar här\n",
    "        )\n",
    "    )\n",
    "ax2.bar(top10['Name'],top10['Price'], width=0.5, color='steelblue',label = 'Price')\n",
    "ax2.tick_params(axis='x', rotation=90, labelsize=10)\n",
    "ax2.set_title('Price in pounds for the most popular games in Steam', )\n",
    "ax2.set_xlabel('Game')\n",
    "ax2.set_ylabel('Price in pounds',loc ='center')\n",
    "ax2.legend(loc = 'upper right')\n",
    "ax2.annotate(text = \"no bars = Free To Play\", xy=(0.15, 0.07), xycoords='axes fraction', ha='center', fontsize=10)\n",
    "\n",
    "\n",
    "# Visa grafen\n",
    "plt.tight_layout()\n",
    "plt.savefig('../plots/steam_games2.png', dpi=300, bbox_inches='tight')\n",
    "plt.show()\n",
    "\n"
   ]
  }
 ],
 "metadata": {
  "kernelspec": {
   "display_name": ".venv",
   "language": "python",
   "name": "python3"
  },
  "language_info": {
   "codemirror_mode": {
    "name": "ipython",
    "version": 3
   },
   "file_extension": ".py",
   "mimetype": "text/x-python",
   "name": "python",
   "nbconvert_exporter": "python",
   "pygments_lexer": "ipython3",
   "version": "3.12.5"
  }
 },
 "nbformat": 4,
 "nbformat_minor": 5
}
