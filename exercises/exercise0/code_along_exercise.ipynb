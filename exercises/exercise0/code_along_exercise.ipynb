{
 "cells": [
  {
   "cell_type": "code",
   "execution_count": 8,
   "id": "4b1cdc54",
   "metadata": {},
   "outputs": [],
   "source": [
    "import pandas as pd\n",
    "import duckdb\n",
    "import matplotlib.pyplot as plt\n",
    "\n",
    "\n",
    "\n",
    "\n",
    "df = pd.read_csv(\"../data/norway_new_car_sales_by_month.csv\")\n",
    "\n",
    "plt.style.use(\"../styles/base.mplstyle\")\n",
    "\n",
    "df = duckdb.query(\n",
    "    \"\"\"\n",
    "    SELECT avg_CO2, import,quantity, year, month\n",
    "    FROM df\n",
    "\n",
    "\"\"\"\n",
    ").df()\n",
    "\n",
    "df[\"date\"] = pd.to_datetime(\n",
    "    df[\"Year\"].astype(str) + \"-\" + df[\"Month\"].astype(str).str.zfill(2), format=\"%Y-%m\"\n",
    ")\n",
    "\n",
    "df = df.set_index(\"date\")\n",
    "\n",
    "\n",
    "\n"
   ]
  }
 ],
 "metadata": {
  "kernelspec": {
   "display_name": ".venv",
   "language": "python",
   "name": "python3"
  },
  "language_info": {
   "codemirror_mode": {
    "name": "ipython",
    "version": 3
   },
   "file_extension": ".py",
   "mimetype": "text/x-python",
   "name": "python",
   "nbconvert_exporter": "python",
   "pygments_lexer": "ipython3",
   "version": "3.12.5"
  }
 },
 "nbformat": 4,
 "nbformat_minor": 5
}
