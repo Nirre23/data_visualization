{
 "cells": [
  {
   "cell_type": "markdown",
   "id": "dfc04ce1",
   "metadata": {},
   "source": [
    "# Choropleth map"
   ]
  },
  {
   "cell_type": "code",
   "execution_count": 63,
   "id": "441e3ab9",
   "metadata": {},
   "outputs": [],
   "source": [
    "import pandas as pd\n",
    "import duckdb\n",
    "\n",
    "df = pd.read_excel(\"data/resultat-ansokningsomgang-2024.xlsx\",sheet_name= \"Tabell 3\",skiprows = 5)"
   ]
  },
  {
   "cell_type": "code",
   "execution_count": 64,
   "id": "0f172ab7",
   "metadata": {},
   "outputs": [
    {
     "data": {
      "text/plain": [
       "(np.int64(344), np.int64(1272))"
      ]
     },
     "execution_count": 64,
     "metadata": {},
     "output_type": "execute_result"
    }
   ],
   "source": [
    "decisions = df[\"Beslut\"].value_counts()\n",
    "approved , total = decisions['Beviljad'], decisions.sum()\n",
    "approved,total\n",
    "\n"
   ]
  },
  {
   "cell_type": "code",
   "execution_count": 65,
   "id": "acfeed23",
   "metadata": {},
   "outputs": [
    {
     "data": {
      "text/html": [
       "<div>\n",
       "<style scoped>\n",
       "    .dataframe tbody tr th:only-of-type {\n",
       "        vertical-align: middle;\n",
       "    }\n",
       "\n",
       "    .dataframe tbody tr th {\n",
       "        vertical-align: top;\n",
       "    }\n",
       "\n",
       "    .dataframe thead th {\n",
       "        text-align: right;\n",
       "    }\n",
       "</style>\n",
       "<table border=\"1\" class=\"dataframe\">\n",
       "  <thead>\n",
       "    <tr style=\"text-align: right;\">\n",
       "      <th></th>\n",
       "      <th>Län</th>\n",
       "      <th>Beviljade</th>\n",
       "    </tr>\n",
       "  </thead>\n",
       "  <tbody>\n",
       "    <tr>\n",
       "      <th>0</th>\n",
       "      <td>Stockholm</td>\n",
       "      <td>82.0</td>\n",
       "    </tr>\n",
       "    <tr>\n",
       "      <th>1</th>\n",
       "      <td>Flera kommuner</td>\n",
       "      <td>65.0</td>\n",
       "    </tr>\n",
       "    <tr>\n",
       "      <th>2</th>\n",
       "      <td>Västra Götaland</td>\n",
       "      <td>63.0</td>\n",
       "    </tr>\n",
       "    <tr>\n",
       "      <th>3</th>\n",
       "      <td>Skåne</td>\n",
       "      <td>37.0</td>\n",
       "    </tr>\n",
       "    <tr>\n",
       "      <th>4</th>\n",
       "      <td>Östergötland</td>\n",
       "      <td>16.0</td>\n",
       "    </tr>\n",
       "    <tr>\n",
       "      <th>5</th>\n",
       "      <td>Jönköping</td>\n",
       "      <td>13.0</td>\n",
       "    </tr>\n",
       "    <tr>\n",
       "      <th>6</th>\n",
       "      <td>Örebro</td>\n",
       "      <td>10.0</td>\n",
       "    </tr>\n",
       "    <tr>\n",
       "      <th>7</th>\n",
       "      <td>Västernorrland</td>\n",
       "      <td>6.0</td>\n",
       "    </tr>\n",
       "    <tr>\n",
       "      <th>8</th>\n",
       "      <td>Västmanland</td>\n",
       "      <td>5.0</td>\n",
       "    </tr>\n",
       "    <tr>\n",
       "      <th>9</th>\n",
       "      <td>Kronoberg</td>\n",
       "      <td>5.0</td>\n",
       "    </tr>\n",
       "    <tr>\n",
       "      <th>10</th>\n",
       "      <td>Gävleborg</td>\n",
       "      <td>5.0</td>\n",
       "    </tr>\n",
       "    <tr>\n",
       "      <th>11</th>\n",
       "      <td>Kalmar</td>\n",
       "      <td>5.0</td>\n",
       "    </tr>\n",
       "    <tr>\n",
       "      <th>12</th>\n",
       "      <td>Västerbotten</td>\n",
       "      <td>4.0</td>\n",
       "    </tr>\n",
       "    <tr>\n",
       "      <th>13</th>\n",
       "      <td>Halland</td>\n",
       "      <td>4.0</td>\n",
       "    </tr>\n",
       "    <tr>\n",
       "      <th>14</th>\n",
       "      <td>Värmland</td>\n",
       "      <td>4.0</td>\n",
       "    </tr>\n",
       "    <tr>\n",
       "      <th>15</th>\n",
       "      <td>Uppsala</td>\n",
       "      <td>4.0</td>\n",
       "    </tr>\n",
       "    <tr>\n",
       "      <th>16</th>\n",
       "      <td>Dalarna</td>\n",
       "      <td>4.0</td>\n",
       "    </tr>\n",
       "    <tr>\n",
       "      <th>17</th>\n",
       "      <td>Norrbotten</td>\n",
       "      <td>4.0</td>\n",
       "    </tr>\n",
       "    <tr>\n",
       "      <th>18</th>\n",
       "      <td>Södermanland</td>\n",
       "      <td>3.0</td>\n",
       "    </tr>\n",
       "    <tr>\n",
       "      <th>19</th>\n",
       "      <td>Blekinge</td>\n",
       "      <td>3.0</td>\n",
       "    </tr>\n",
       "    <tr>\n",
       "      <th>20</th>\n",
       "      <td>Jämtland</td>\n",
       "      <td>2.0</td>\n",
       "    </tr>\n",
       "  </tbody>\n",
       "</table>\n",
       "</div>"
      ],
      "text/plain": [
       "                Län  Beviljade\n",
       "0         Stockholm       82.0\n",
       "1    Flera kommuner       65.0\n",
       "2   Västra Götaland       63.0\n",
       "3             Skåne       37.0\n",
       "4      Östergötland       16.0\n",
       "5         Jönköping       13.0\n",
       "6            Örebro       10.0\n",
       "7    Västernorrland        6.0\n",
       "8       Västmanland        5.0\n",
       "9         Kronoberg        5.0\n",
       "10        Gävleborg        5.0\n",
       "11           Kalmar        5.0\n",
       "12     Västerbotten        4.0\n",
       "13          Halland        4.0\n",
       "14         Värmland        4.0\n",
       "15          Uppsala        4.0\n",
       "16          Dalarna        4.0\n",
       "17       Norrbotten        4.0\n",
       "18     Södermanland        3.0\n",
       "19         Blekinge        3.0\n",
       "20         Jämtland        2.0"
      ]
     },
     "execution_count": 65,
     "metadata": {},
     "output_type": "execute_result"
    }
   ],
   "source": [
    "df_regions = duckdb.query(\"\"\"--sql\n",
    "             Select \n",
    "                län,\n",
    "                count_if(beslut = 'Beviljad') as Beviljade\n",
    "             from df\n",
    "             where län != 'Flere kommuner'\n",
    "             group by län\n",
    "             order by beviljade desc\n",
    "             \"\"\"\n",
    "             ).df()\n",
    "\n",
    "df_regions"
   ]
  },
  {
   "cell_type": "code",
   "execution_count": 66,
   "id": "dc143e33",
   "metadata": {},
   "outputs": [
    {
     "data": {
      "text/plain": [
       "array(['Stockholm', 'Flera kommuner', 'Västra Götaland', 'Skåne',\n",
       "       'Östergötland', 'Jönköping', 'Örebro', 'Västernorrland',\n",
       "       'Västmanland', 'Kronoberg', 'Gävleborg', 'Kalmar', 'Västerbotten',\n",
       "       'Halland', 'Värmland', 'Uppsala', 'Dalarna', 'Norrbotten',\n",
       "       'Södermanland', 'Blekinge', 'Jämtland'], dtype=object)"
      ]
     },
     "execution_count": 66,
     "metadata": {},
     "output_type": "execute_result"
    }
   ],
   "source": [
    "df_regions['Län'].values"
   ]
  },
  {
   "cell_type": "code",
   "execution_count": 67,
   "id": "fea9cb23",
   "metadata": {},
   "outputs": [
    {
     "data": {
      "text/plain": [
       "{'admin_level': '4',\n",
       " 'boundary': 'administrative',\n",
       " 'name': 'Gotlands län',\n",
       " 'ref:se:län:bokstav': 'I',\n",
       " 'ref:se:länskod': '09',\n",
       " 'type': 'multipolygon'}"
      ]
     },
     "execution_count": 67,
     "metadata": {},
     "output_type": "execute_result"
    }
   ],
   "source": [
    "import json\n",
    "with open(\"assets/swedish_regions.geojson\", \"r\", encoding = \"utf-8\") as file:\n",
    "    json_data= json.load(file)\n",
    "\n",
    "json_data.get(\"features\")[0].get(\"properties\")"
   ]
  },
  {
   "cell_type": "code",
   "execution_count": 68,
   "id": "07a78dad",
   "metadata": {},
   "outputs": [
    {
     "data": {
      "text/plain": [
       "{'Gotlands län': '09',\n",
       " 'Kalmar län': '08',\n",
       " 'Blekinge län': '10',\n",
       " 'Jämtlands län': '23',\n",
       " 'Västerbottens län': '24',\n",
       " 'Kronobergs län': '07',\n",
       " 'Västra Götalands län': '14',\n",
       " 'Värmlands län': '17',\n",
       " 'Dalarnas län': '20',\n",
       " 'Södermanlands län': '04',\n",
       " 'Jönköpings län': '06',\n",
       " 'Östergötlands län': '05',\n",
       " 'Stockholms län': '01',\n",
       " 'Västmanlands län': '19',\n",
       " 'Uppsala län': '03',\n",
       " 'Gävleborgs län': '21',\n",
       " 'Västernorrlands län': '22',\n",
       " 'Örebro län': '18',\n",
       " 'Norrbottens län': '25',\n",
       " 'Hallands län': '13',\n",
       " 'Skåne län': '12'}"
      ]
     },
     "execution_count": 68,
     "metadata": {},
     "output_type": "execute_result"
    }
   ],
   "source": [
    "properties = [feature.get(\"properties\") for feature in json_data.get(\"features\")]\n",
    "region_codes = {\n",
    "    property.get(\"name\"): property.get(\"ref:se:länskod\") for property in properties\n",
    "}\n",
    "\n",
    "region_codes"
   ]
  }
 ],
 "metadata": {
  "kernelspec": {
   "display_name": ".venv",
   "language": "python",
   "name": "python3"
  },
  "language_info": {
   "codemirror_mode": {
    "name": "ipython",
    "version": 3
   },
   "file_extension": ".py",
   "mimetype": "text/x-python",
   "name": "python",
   "nbconvert_exporter": "python",
   "pygments_lexer": "ipython3",
   "version": "3.12.5"
  }
 },
 "nbformat": 4,
 "nbformat_minor": 5
}
