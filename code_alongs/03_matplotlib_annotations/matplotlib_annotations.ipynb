{
 "cells": [
  {
   "cell_type": "markdown",
   "id": "adae6db3",
   "metadata": {},
   "source": [
    "# `Matplotlib annotations`\n"
   ]
  },
  {
   "cell_type": "code",
   "execution_count": 101,
   "id": "24d12fac",
   "metadata": {},
   "outputs": [],
   "source": [
    "import pandas as pd\n",
    "import duckdb as db\n",
    "\n",
    "df = pd.read_csv('data/1900-census-immigrant-pop-metro.csv')\n"
   ]
  },
  {
   "cell_type": "code",
   "execution_count": 102,
   "id": "f24ffb55",
   "metadata": {},
   "outputs": [
    {
     "data": {
      "text/plain": [
       "Index(['City', 'State', 'Error', 'Total foreign born', 'Africa',\n",
       "       'Asia (except China, Japan, and India)', 'Atlantic Islands',\n",
       "       'Australia', 'Austria', 'Belgium', 'Bohemia', 'Canada (English)',\n",
       "       'Canada (French)', 'Central America', 'China', 'Cuba', 'Denmark',\n",
       "       'England', 'Europe (not otherwise specified)', 'Finland', 'France',\n",
       "       'Germany', 'Greece', 'Holland', 'Hungary', 'India', 'Ireland', 'Italy',\n",
       "       'Japan', 'Luxemburg', 'Mexico', 'Norway',\n",
       "       'Pacific Islands (except Phillipine Islands)', 'Poland (Austrian)',\n",
       "       'Poland (German)', 'Poland (Russian)', 'Poland (unknown)', 'Portugal',\n",
       "       'Roumania', 'Russia', 'Scotland', 'South America', 'Spain', 'Sweden',\n",
       "       'Switzerland', 'Turkey', 'Wales',\n",
       "       'West Indies (except Cuba and Puerto Rico)', 'Other countries',\n",
       "       'Born at sea'],\n",
       "      dtype='object')"
      ]
     },
     "execution_count": 102,
     "metadata": {},
     "output_type": "execute_result"
    }
   ],
   "source": [
    "df.columns"
   ]
  },
  {
   "cell_type": "code",
   "execution_count": 103,
   "id": "b935f6b6",
   "metadata": {},
   "outputs": [],
   "source": [
    "columns = [\"Sweden\", \"Norway\", \"Finland\", \"Denmark\", \"Total foreign born\"]\n",
    "\n",
    "df_nordic = df[columns]\n",
    "\n",
    "df_nordic = df_nordic.fillna(\"0\")\n",
    "\n",
    "for column in columns:\n",
    "    df[column] = df_nordic[column].str.replace(\",\", \"\").astype(int)"
   ]
  },
  {
   "cell_type": "code",
   "execution_count": 104,
   "id": "049ecd08",
   "metadata": {},
   "outputs": [
    {
     "data": {
      "text/html": [
       "<div>\n",
       "<style scoped>\n",
       "    .dataframe tbody tr th:only-of-type {\n",
       "        vertical-align: middle;\n",
       "    }\n",
       "\n",
       "    .dataframe tbody tr th {\n",
       "        vertical-align: top;\n",
       "    }\n",
       "\n",
       "    .dataframe thead th {\n",
       "        text-align: right;\n",
       "    }\n",
       "</style>\n",
       "<table border=\"1\" class=\"dataframe\">\n",
       "  <thead>\n",
       "    <tr style=\"text-align: right;\">\n",
       "      <th></th>\n",
       "      <th>Sweden</th>\n",
       "      <th>Norway</th>\n",
       "      <th>Finland</th>\n",
       "      <th>Denmark</th>\n",
       "      <th>Total foreign born</th>\n",
       "    </tr>\n",
       "  </thead>\n",
       "  <tbody>\n",
       "    <tr>\n",
       "      <th>0</th>\n",
       "      <td>200</td>\n",
       "      <td>59</td>\n",
       "      <td>1</td>\n",
       "      <td>105</td>\n",
       "      <td>7,127</td>\n",
       "    </tr>\n",
       "    <tr>\n",
       "      <th>1</th>\n",
       "      <td>65</td>\n",
       "      <td>12</td>\n",
       "      <td>3</td>\n",
       "      <td>21</td>\n",
       "      <td>17,718</td>\n",
       "    </tr>\n",
       "    <tr>\n",
       "      <th>2</th>\n",
       "      <td>186</td>\n",
       "      <td>9</td>\n",
       "      <td>5</td>\n",
       "      <td>15</td>\n",
       "      <td>30,216</td>\n",
       "    </tr>\n",
       "    <tr>\n",
       "      <th>3</th>\n",
       "      <td>5</td>\n",
       "      <td>2</td>\n",
       "      <td>0</td>\n",
       "      <td>5</td>\n",
       "      <td>2,991</td>\n",
       "    </tr>\n",
       "    <tr>\n",
       "      <th>4</th>\n",
       "      <td>32</td>\n",
       "      <td>4</td>\n",
       "      <td>3</td>\n",
       "      <td>5</td>\n",
       "      <td>3,301</td>\n",
       "    </tr>\n",
       "  </tbody>\n",
       "</table>\n",
       "</div>"
      ],
      "text/plain": [
       "  Sweden Norway Finland Denmark Total foreign born\n",
       "0    200     59       1     105              7,127\n",
       "1     65     12       3      21             17,718\n",
       "2    186      9       5      15             30,216\n",
       "3      5      2       0       5              2,991\n",
       "4     32      4       3       5              3,301"
      ]
     },
     "execution_count": 104,
     "metadata": {},
     "output_type": "execute_result"
    }
   ],
   "source": [
    "df_nordic.head(5)"
   ]
  },
  {
   "cell_type": "code",
   "execution_count": 105,
   "id": "d2cb938f",
   "metadata": {},
   "outputs": [
    {
     "data": {
      "text/html": [
       "<div>\n",
       "<style scoped>\n",
       "    .dataframe tbody tr th:only-of-type {\n",
       "        vertical-align: middle;\n",
       "    }\n",
       "\n",
       "    .dataframe tbody tr th {\n",
       "        vertical-align: top;\n",
       "    }\n",
       "\n",
       "    .dataframe thead th {\n",
       "        text-align: right;\n",
       "    }\n",
       "</style>\n",
       "<table border=\"1\" class=\"dataframe\">\n",
       "  <thead>\n",
       "    <tr style=\"text-align: right;\">\n",
       "      <th></th>\n",
       "      <th>State</th>\n",
       "      <th>Total foreigners</th>\n",
       "      <th>Swedes</th>\n",
       "      <th>Norwegians</th>\n",
       "      <th>Danish</th>\n",
       "      <th>Finnish</th>\n",
       "      <th>Nordic</th>\n",
       "    </tr>\n",
       "  </thead>\n",
       "  <tbody>\n",
       "    <tr>\n",
       "      <th>0</th>\n",
       "      <td>Illinois</td>\n",
       "      <td>627465.0</td>\n",
       "      <td>57158.0</td>\n",
       "      <td>22300.0</td>\n",
       "      <td>10374.0</td>\n",
       "      <td>447.0</td>\n",
       "      <td>90279.0</td>\n",
       "    </tr>\n",
       "    <tr>\n",
       "      <th>1</th>\n",
       "      <td>Minnesota</td>\n",
       "      <td>128823.0</td>\n",
       "      <td>34984.0</td>\n",
       "      <td>17087.0</td>\n",
       "      <td>2975.0</td>\n",
       "      <td>1101.0</td>\n",
       "      <td>56147.0</td>\n",
       "    </tr>\n",
       "    <tr>\n",
       "      <th>2</th>\n",
       "      <td>New York</td>\n",
       "      <td>1521931.0</td>\n",
       "      <td>29961.0</td>\n",
       "      <td>11752.0</td>\n",
       "      <td>6186.0</td>\n",
       "      <td>3764.0</td>\n",
       "      <td>51663.0</td>\n",
       "    </tr>\n",
       "    <tr>\n",
       "      <th>3</th>\n",
       "      <td>Massachusetts</td>\n",
       "      <td>567170.0</td>\n",
       "      <td>21971.0</td>\n",
       "      <td>2366.0</td>\n",
       "      <td>1451.0</td>\n",
       "      <td>3154.0</td>\n",
       "      <td>28942.0</td>\n",
       "    </tr>\n",
       "    <tr>\n",
       "      <th>4</th>\n",
       "      <td>Wisconsin</td>\n",
       "      <td>124230.0</td>\n",
       "      <td>4034.0</td>\n",
       "      <td>6485.0</td>\n",
       "      <td>4024.0</td>\n",
       "      <td>405.0</td>\n",
       "      <td>14948.0</td>\n",
       "    </tr>\n",
       "  </tbody>\n",
       "</table>\n",
       "</div>"
      ],
      "text/plain": [
       "           State  Total foreigners   Swedes  Norwegians   Danish  Finnish  \\\n",
       "0       Illinois          627465.0  57158.0     22300.0  10374.0    447.0   \n",
       "1      Minnesota          128823.0  34984.0     17087.0   2975.0   1101.0   \n",
       "2       New York         1521931.0  29961.0     11752.0   6186.0   3764.0   \n",
       "3  Massachusetts          567170.0  21971.0      2366.0   1451.0   3154.0   \n",
       "4      Wisconsin          124230.0   4034.0      6485.0   4024.0    405.0   \n",
       "\n",
       "    Nordic  \n",
       "0  90279.0  \n",
       "1  56147.0  \n",
       "2  51663.0  \n",
       "3  28942.0  \n",
       "4  14948.0  "
      ]
     },
     "execution_count": 105,
     "metadata": {},
     "output_type": "execute_result"
    }
   ],
   "source": [
    "import duckdb\n",
    "\n",
    "df_nordic = duckdb.query(\n",
    "    \"\"\"--sql\n",
    "    WITH nordic AS (\n",
    "        FROM df\n",
    "            SELECT \n",
    "                state, \n",
    "                SUM(\"Total foreign born\") AS \"Total foreigners\",\n",
    "                SUM(sweden) AS Swedes,\n",
    "                SUM(norway) AS Norwegians,\n",
    "                SUM(denmark) AS Danish,\n",
    "                SUM(finland) AS Finnish,\n",
    "            GROUP BY\n",
    "             state\n",
    "    )\n",
    "    FROM nordic n \n",
    "    SELECT *, n.swedes + n.norwegians + n.danish + n.finnish AS Nordic\n",
    "    ORDER BY \n",
    "        nordic \n",
    "    DESC\n",
    "\"\"\"\n",
    ").df()\n",
    "\n",
    "df_nordic.head()"
   ]
  },
  {
   "cell_type": "markdown",
   "id": "2feb7a9c",
   "metadata": {},
   "source": [
    "# TODO for me \n",
    "- more visualizations on Nordic\n",
    "- more visualizations on Total foreigners   \n",
    "- ex bar charts for different states \n",
    "- compare nordic to toal foreigners"
   ]
  },
  {
   "cell_type": "code",
   "execution_count": 106,
   "id": "11c12073",
   "metadata": {},
   "outputs": [
    {
     "data": {
      "text/plain": [
       "(39, 7)"
      ]
     },
     "execution_count": 106,
     "metadata": {},
     "output_type": "execute_result"
    }
   ],
   "source": [
    "df_nordic.shape"
   ]
  },
  {
   "cell_type": "code",
   "execution_count": 107,
   "id": "f44715ee",
   "metadata": {},
   "outputs": [
    {
     "data": {
      "text/html": [
       "<div>\n",
       "<style scoped>\n",
       "    .dataframe tbody tr th:only-of-type {\n",
       "        vertical-align: middle;\n",
       "    }\n",
       "\n",
       "    .dataframe tbody tr th {\n",
       "        vertical-align: top;\n",
       "    }\n",
       "\n",
       "    .dataframe thead th {\n",
       "        text-align: right;\n",
       "    }\n",
       "</style>\n",
       "<table border=\"1\" class=\"dataframe\">\n",
       "  <thead>\n",
       "    <tr style=\"text-align: right;\">\n",
       "      <th></th>\n",
       "      <th>Swedes</th>\n",
       "      <th>Norwegians</th>\n",
       "      <th>Danish</th>\n",
       "      <th>Finnish</th>\n",
       "    </tr>\n",
       "    <tr>\n",
       "      <th>State</th>\n",
       "      <th></th>\n",
       "      <th></th>\n",
       "      <th></th>\n",
       "      <th></th>\n",
       "    </tr>\n",
       "  </thead>\n",
       "  <tbody>\n",
       "    <tr>\n",
       "      <th>Illinois</th>\n",
       "      <td>57158.0</td>\n",
       "      <td>22300.0</td>\n",
       "      <td>10374.0</td>\n",
       "      <td>447.0</td>\n",
       "    </tr>\n",
       "    <tr>\n",
       "      <th>Minnesota</th>\n",
       "      <td>34984.0</td>\n",
       "      <td>17087.0</td>\n",
       "      <td>2975.0</td>\n",
       "      <td>1101.0</td>\n",
       "    </tr>\n",
       "    <tr>\n",
       "      <th>New York</th>\n",
       "      <td>29961.0</td>\n",
       "      <td>11752.0</td>\n",
       "      <td>6186.0</td>\n",
       "      <td>3764.0</td>\n",
       "    </tr>\n",
       "  </tbody>\n",
       "</table>\n",
       "</div>"
      ],
      "text/plain": [
       "            Swedes  Norwegians   Danish  Finnish\n",
       "State                                           \n",
       "Illinois   57158.0     22300.0  10374.0    447.0\n",
       "Minnesota  34984.0     17087.0   2975.0   1101.0\n",
       "New York   29961.0     11752.0   6186.0   3764.0"
      ]
     },
     "execution_count": 107,
     "metadata": {},
     "output_type": "execute_result"
    }
   ],
   "source": [
    "import matplotlib.pyplot as plt \n",
    "\n",
    "\n",
    "\n",
    "top_3_nordic = (\n",
    "    df_nordic.drop([\"Total foreigners\", \"Nordic\"], axis=1).set_index(\"State\").iloc[:3]\n",
    ")\n",
    "top_3_nordic"
   ]
  },
  {
   "cell_type": "markdown",
   "id": "8121aadd",
   "metadata": {},
   "source": [
    "# Annotate\n"
   ]
  },
  {
   "cell_type": "code",
   "execution_count": 108,
   "id": "279cf07d",
   "metadata": {},
   "outputs": [
    {
     "data": {
      "text/plain": [
       "(<Figure size 1200x600 with 1 Axes>, <Axes: xlabel='State'>)"
      ]
     },
     "execution_count": 108,
     "metadata": {},
     "output_type": "execute_result"
    },
    {
     "data": {
      "image/png": "[encoded data removed]",
      "text/plain": [
       "<Figure size 1200x600 with 1 Axes>"
      ]
     },
     "metadata": {},
     "output_type": "display_data"
    }
   ],
   "source": [
    "def nordic_plot():\n",
    "    ax = top_3_nordic.plot(kind = \"bar\", figsize=(12,6))\n",
    "    ax.set_xticklabels(top_3_nordic.index, rotation = 0)\n",
    "\n",
    "    fig = ax.get_figure()\n",
    "    ax.legend_.remove()\n",
    "    return fig, ax\n",
    "\n",
    "nordic_plot()"
   ]
  },
  {
   "cell_type": "code",
   "execution_count": 109,
   "id": "11f3ae19",
   "metadata": {},
   "outputs": [
    {
     "data": {
      "text/plain": [
       "[<BarContainer object of 3 artists>,\n",
       " <BarContainer object of 3 artists>,\n",
       " <BarContainer object of 3 artists>,\n",
       " <BarContainer object of 3 artists>]"
      ]
     },
     "execution_count": 109,
     "metadata": {},
     "output_type": "execute_result"
    },
    {
     "data": {
      "image/png": "[encoded data removed]",
      "text/plain": [
       "<Figure size 1200x600 with 1 Axes>"
      ]
     },
     "metadata": {},
     "output_type": "display_data"
    }
   ],
   "source": [
    "fig, ax = nordic_plot()\n",
    "\n",
    "ax.containers"
   ]
  },
  {
   "cell_type": "code",
   "execution_count": 110,
   "id": "f14bd5dc",
   "metadata": {},
   "outputs": [
    {
     "data": {
      "text/plain": [
       "Text(0.8, 42000, 'Swedes')"
      ]
     },
     "execution_count": 110,
     "metadata": {},
     "output_type": "execute_result"
    },
    {
     "data": {
      "image/png": "[encoded data removed]",
      "text/plain": [
       "<Figure size 1200x600 with 1 Axes>"
      ]
     },
     "metadata": {},
     "output_type": "display_data"
    }
   ],
   "source": [
    "fig, ax = nordic_plot()\n",
    "\n",
    "arrowprops = dict(arrowstyle=\"->\", linewidth=2, connectionstyle=\"arc3, rad=.3\")\n",
    "ax.annotate(text=\"Swedes\", xy=(0.8, 35000), arrowprops=arrowprops, xytext=(0.8, 42000))"
   ]
  },
  {
   "cell_type": "code",
   "execution_count": 122,
   "id": "7d4dcc33",
   "metadata": {},
   "outputs": [
    {
     "data": {
      "image/png": "[encoded data removed]",
      "text/plain": [
       "<Figure size 1200x600 with 1 Axes>"
      ]
     },
     "metadata": {},
     "output_type": "display_data"
    }
   ],
   "source": [
    "fig, ax = nordic_plot()\n",
    "\n",
    "# tuple unpacking of ax.containers that is a list of four BarContainers, which contains 3 Artists each\n",
    "swede_bars, norwegian_bars, danish_bars, finnish_bars = ax.containers\n",
    "\n",
    "\n",
    "\n",
    "def annotate_nordic(bar_artist, text, x_offset, y_offset,rad=-0.3):\n",
    "\n",
    "    xy = (bar_artist.get_x(), bar_artist.get_height())\n",
    "\n",
    "  \n",
    "    \n",
    "\n",
    "    arrowprops = dict(arrowstyle=\"->\", linewidth=2, connectionstyle=f\"arc3, rad={rad}\")\n",
    "    \n",
    "    ax.annotate(\n",
    "        text=text,\n",
    "        xy=(xy[0] + 0.06, xy[1]),\n",
    "        arrowprops=arrowprops,\n",
    "        xytext=(xy[0] + x_offset, xy[1] + y_offset),\n",
    "    )\n",
    "\n",
    "\n",
    "\n",
    "\n",
    "annotate_nordic(swede_bars[1], \"Swedes\", -0.1, 7000, rad= -0.3)\n",
    "annotate_nordic(norwegian_bars[0], \"Norwegians\", 0.1, 5000,rad= 0.3)\n",
    "annotate_nordic(danish_bars[1]  , \"Danes\", 0.1, 5000,rad = 0.3)\n",
    "annotate_nordic(finnish_bars[2], \"Finns\",0.1, 5000, rad= 0.3)\n",
    "\n",
    "plt.title(\"Nordic Population By Country\")\n",
    "plt.ylabel(\"Population\")\n",
    "plt.tight_layout()\n",
    "plt.savefig('../plots/nordic_plot.png', dpi=300, bbox_inches='tight')\n",
    "plt.grid(True)\n",
    "plt.show()\n",
    "\n",
    "\n",
    "\n",
    "# TODO for reader:\n",
    "# draw other annotations \n",
    "\n",
    "# save the figure as a png file"
   ]
  },
  {
   "cell_type": "code",
   "execution_count": null,
   "id": "059dc343",
   "metadata": {},
   "outputs": [],
   "source": []
  }
 ],
 "metadata": {
  "kernelspec": {
   "display_name": ".venv",
   "language": "python",
   "name": "python3"
  },
  "language_info": {
   "codemirror_mode": {
    "name": "ipython",
    "version": 3
   },
   "file_extension": ".py",
   "mimetype": "text/x-python",
   "name": "python",
   "nbconvert_exporter": "python",
   "pygments_lexer": "ipython3",
   "version": "3.12.5"
  }
 },
 "nbformat": 4,
 "nbformat_minor": 5
}
